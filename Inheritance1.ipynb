{
 "cells": [
  {
   "cell_type": "code",
   "execution_count": 1,
   "metadata": {},
   "outputs": [],
   "source": [
    "class Vehicle:\n",
    "\n",
    "    def __init__(self, color, maxSpeed):\n",
    "        self.color = color\n",
    "        self.maxSpeed = maxSpeed\n",
    "\n",
    "\n",
    "class Car(Vehicle):\n",
    "\n",
    "    def __init__(self, color, maxSpeed, numGears, isConvertible):\n",
    "\n",
    "       \n",
    "        super().__init__(color, maxSpeed)\n",
    "        self.numGears = numGears\n",
    "        self.isConvertible = isConvertible\n",
    "\n",
    "\n",
    "    def printCar(self):\n",
    "        print(\"Color : \", self.color)\n",
    "        print(\"Max Speed : \", self.maxSpeed)\n",
    "        print(\"Num Gears : \", self.numGears)\n",
    "        print(\"Is Convertible : \", self.isConvertible)\n"
   ]
  },
  {
   "cell_type": "code",
   "execution_count": 2,
   "metadata": {},
   "outputs": [],
   "source": [
    "c = Car(\"red\", 15, 3, False)"
   ]
  },
  {
   "cell_type": "code",
   "execution_count": 3,
   "metadata": {},
   "outputs": [
    {
     "name": "stdout",
     "output_type": "stream",
     "text": [
      "Color :  red\n",
      "Max Speed :  15\n",
      "Num Gears :  3\n",
      "Is Convertible :  False\n"
     ]
    }
   ],
   "source": [
    "c.printCar()"
   ]
  },
  {
   "cell_type": "code",
   "execution_count": null,
   "metadata": {},
   "outputs": [],
   "source": [
    "# Inheritance and Private Members"
   ]
  },
  {
   "cell_type": "code",
   "execution_count": 7,
   "metadata": {},
   "outputs": [],
   "source": [
    "class Vehicle:\n",
    "\n",
    "    def __init__(self, color, maxSpeed):\n",
    "        self.color = color\n",
    "        self.__maxSpeed = maxSpeed\n",
    "\n",
    "\n",
    "class Car(Vehicle):\n",
    "\n",
    "    def __init__(self, color, maxSpeed, numGears, isConvertible):\n",
    "\n",
    "       \n",
    "        super().__init__(color, maxSpeed)\n",
    "        self.numGears = numGears\n",
    "        self.isConvertible = isConvertible\n",
    "\n",
    "\n",
    "    def printCar(self):\n",
    "        print(\"Color : \", self.color)\n",
    "        print(\"Max Speed : \", self.__maxSpeed)\n",
    "        print(\"Num Gears : \", self.numGears)\n",
    "        print(\"Is Convertible : \", self.isConvertible)\n"
   ]
  },
  {
   "cell_type": "code",
   "execution_count": 8,
   "metadata": {},
   "outputs": [],
   "source": [
    "c = Car(\"red\", 15, 3, False)"
   ]
  },
  {
   "cell_type": "code",
   "execution_count": 9,
   "metadata": {},
   "outputs": [
    {
     "name": "stdout",
     "output_type": "stream",
     "text": [
      "Color :  red\n"
     ]
    },
    {
     "ename": "AttributeError",
     "evalue": "'Car' object has no attribute '_Car__maxSpeed'",
     "output_type": "error",
     "traceback": [
      "\u001b[0;31m---------------------------------------------------------------------------\u001b[0m",
      "\u001b[0;31mAttributeError\u001b[0m                            Traceback (most recent call last)",
      "\u001b[1;32m/Users/anupjha/Desktop/Desk/AI KI PATHSHALA/Python/Advance_Session_012/Inheritance1.ipynb Cell 7\u001b[0m line \u001b[0;36m1\n\u001b[0;32m----> <a href='vscode-notebook-cell:/Users/anupjha/Desktop/Desk/AI%20KI%20PATHSHALA/Python/Advance_Session_012/Inheritance1.ipynb#W6sZmlsZQ%3D%3D?line=0'>1</a>\u001b[0m c\u001b[39m.\u001b[39;49mprintCar()\n",
      "\u001b[1;32m/Users/anupjha/Desktop/Desk/AI KI PATHSHALA/Python/Advance_Session_012/Inheritance1.ipynb Cell 7\u001b[0m line \u001b[0;36m2\n\u001b[1;32m     <a href='vscode-notebook-cell:/Users/anupjha/Desktop/Desk/AI%20KI%20PATHSHALA/Python/Advance_Session_012/Inheritance1.ipynb#W6sZmlsZQ%3D%3D?line=17'>18</a>\u001b[0m \u001b[39mdef\u001b[39;00m \u001b[39mprintCar\u001b[39m(\u001b[39mself\u001b[39m):\n\u001b[1;32m     <a href='vscode-notebook-cell:/Users/anupjha/Desktop/Desk/AI%20KI%20PATHSHALA/Python/Advance_Session_012/Inheritance1.ipynb#W6sZmlsZQ%3D%3D?line=18'>19</a>\u001b[0m     \u001b[39mprint\u001b[39m(\u001b[39m\"\u001b[39m\u001b[39mColor : \u001b[39m\u001b[39m\"\u001b[39m, \u001b[39mself\u001b[39m\u001b[39m.\u001b[39mcolor)\n\u001b[0;32m---> <a href='vscode-notebook-cell:/Users/anupjha/Desktop/Desk/AI%20KI%20PATHSHALA/Python/Advance_Session_012/Inheritance1.ipynb#W6sZmlsZQ%3D%3D?line=19'>20</a>\u001b[0m     \u001b[39mprint\u001b[39m(\u001b[39m\"\u001b[39m\u001b[39mMax Speed : \u001b[39m\u001b[39m\"\u001b[39m, \u001b[39mself\u001b[39;49m\u001b[39m.\u001b[39;49m__maxSpeed)\n\u001b[1;32m     <a href='vscode-notebook-cell:/Users/anupjha/Desktop/Desk/AI%20KI%20PATHSHALA/Python/Advance_Session_012/Inheritance1.ipynb#W6sZmlsZQ%3D%3D?line=20'>21</a>\u001b[0m     \u001b[39mprint\u001b[39m(\u001b[39m\"\u001b[39m\u001b[39mNum Gears : \u001b[39m\u001b[39m\"\u001b[39m, \u001b[39mself\u001b[39m\u001b[39m.\u001b[39mnumGears)\n\u001b[1;32m     <a href='vscode-notebook-cell:/Users/anupjha/Desktop/Desk/AI%20KI%20PATHSHALA/Python/Advance_Session_012/Inheritance1.ipynb#W6sZmlsZQ%3D%3D?line=21'>22</a>\u001b[0m     \u001b[39mprint\u001b[39m(\u001b[39m\"\u001b[39m\u001b[39mIs Convertible : \u001b[39m\u001b[39m\"\u001b[39m, \u001b[39mself\u001b[39m\u001b[39m.\u001b[39misConvertible)\n",
      "\u001b[0;31mAttributeError\u001b[0m: 'Car' object has no attribute '_Car__maxSpeed'"
     ]
    }
   ],
   "source": [
    "c.printCar()"
   ]
  },
  {
   "cell_type": "code",
   "execution_count": 10,
   "metadata": {},
   "outputs": [],
   "source": [
    "class Vehicle:\n",
    "\n",
    "    def __init__(self, color, maxSpeed):\n",
    "        self.color = color\n",
    "        self.__maxSpeed = maxSpeed\n",
    "\n",
    "\n",
    "    def getMaxSpeed(self):\n",
    "        return self.__maxSpeed\n",
    "\n",
    "\n",
    "    def setMaxSpeed(self, maxSpeed):\n",
    "        self.__maxSpeed = maxSpeed    \n",
    "\n",
    "\n",
    "class Car(Vehicle):\n",
    "\n",
    "    def __init__(self, color, maxSpeed, numGears, isConvertible):\n",
    "\n",
    "       \n",
    "        super().__init__(color, maxSpeed)\n",
    "        self.numGears = numGears\n",
    "        self.isConvertible = isConvertible\n",
    "\n",
    "\n",
    "    def printCar(self):\n",
    "        print(\"Color : \", self.color)\n",
    "        print(\"Max Speed : \", self.getMaxSpeed())\n",
    "        print(\"Num Gears : \", self.numGears)\n",
    "        print(\"Is Convertible : \", self.isConvertible)\n"
   ]
  },
  {
   "cell_type": "code",
   "execution_count": 11,
   "metadata": {},
   "outputs": [],
   "source": [
    "c = Car(\"red\", 15, 3, False)"
   ]
  },
  {
   "cell_type": "code",
   "execution_count": 12,
   "metadata": {},
   "outputs": [
    {
     "name": "stdout",
     "output_type": "stream",
     "text": [
      "Color :  red\n",
      "Max Speed :  15\n",
      "Num Gears :  3\n",
      "Is Convertible :  False\n"
     ]
    }
   ],
   "source": [
    "c.printCar()"
   ]
  },
  {
   "cell_type": "code",
   "execution_count": 13,
   "metadata": {},
   "outputs": [],
   "source": [
    "class Vehicle:\n",
    "\n",
    "    def __init__(self, color, maxSpeed):\n",
    "        self.color = color\n",
    "        self.__maxSpeed = maxSpeed\n",
    "\n",
    "\n",
    "    def getMaxSpeed(self):\n",
    "        return self.__maxSpeed\n",
    "\n",
    "\n",
    "    def setMaxSpeed(self, maxSpeed):\n",
    "        self.__maxSpeed = maxSpeed \n",
    "\n",
    "\n",
    "    def print(self):\n",
    "\n",
    "        print(\"color :\", self.color)\n",
    "        print(\"maxSpeed :\", self.__maxSpeed)\n",
    "\n",
    "\n",
    "\n",
    "class Car(Vehicle):\n",
    "\n",
    "    def __init__(self, color, maxSpeed, numGears, isConvertible):\n",
    "\n",
    "       \n",
    "        super().__init__(color, maxSpeed)\n",
    "        self.numGears = numGears\n",
    "        self.isConvertible = isConvertible\n",
    "\n",
    "\n",
    "    def printCar(self):\n",
    "\n",
    "        super().print()\n",
    "        print(\"Num Gears : \", self.numGears)\n",
    "        print(\"Is Convertible : \", self.isConvertible)\n"
   ]
  },
  {
   "cell_type": "code",
   "execution_count": 14,
   "metadata": {},
   "outputs": [],
   "source": [
    "c = Car(\"red\", 15, 3, False)"
   ]
  },
  {
   "cell_type": "code",
   "execution_count": 15,
   "metadata": {},
   "outputs": [
    {
     "name": "stdout",
     "output_type": "stream",
     "text": [
      "color : red\n",
      "maxSpeed : 15\n",
      "Num Gears :  3\n",
      "Is Convertible :  False\n"
     ]
    }
   ],
   "source": [
    "c.printCar()"
   ]
  },
  {
   "cell_type": "code",
   "execution_count": 16,
   "metadata": {},
   "outputs": [],
   "source": [
    "class Vehicle:\n",
    "\n",
    "    def __init__(self, color, maxSpeed):\n",
    "        self.color = color\n",
    "        self.__maxSpeed = maxSpeed\n",
    "\n",
    "\n",
    "    def getMaxSpeed(self):\n",
    "        return self.__maxSpeed\n",
    "\n",
    "\n",
    "    def setMaxSpeed(self, maxSpeed):\n",
    "        self.__maxSpeed = maxSpeed \n",
    "\n",
    "\n",
    "    def print(self):\n",
    "\n",
    "        print(\"color :\", self.color)\n",
    "        print(\"maxSpeed :\", self.__maxSpeed)\n",
    "\n",
    "\n",
    "\n",
    "class Car(Vehicle):\n",
    "\n",
    "    def __init__(self, color, maxSpeed, numGears, isConvertible):\n",
    "\n",
    "       \n",
    "        super().__init__(color, maxSpeed)\n",
    "        self.numGears = numGears\n",
    "        self.isConvertible = isConvertible\n",
    "\n",
    "\n",
    "    def printCar(self):\n",
    "\n",
    "        self.print()\n",
    "        print(\"Num Gears : \", self.numGears)\n",
    "        print(\"Is Convertible : \", self.isConvertible)\n"
   ]
  },
  {
   "cell_type": "code",
   "execution_count": 17,
   "metadata": {},
   "outputs": [],
   "source": [
    "c = Car(\"red\", 15, 3, False)"
   ]
  },
  {
   "cell_type": "code",
   "execution_count": 18,
   "metadata": {},
   "outputs": [
    {
     "name": "stdout",
     "output_type": "stream",
     "text": [
      "color : red\n",
      "maxSpeed : 15\n",
      "Num Gears :  3\n",
      "Is Convertible :  False\n"
     ]
    }
   ],
   "source": [
    "c.printCar()"
   ]
  },
  {
   "cell_type": "code",
   "execution_count": null,
   "metadata": {},
   "outputs": [],
   "source": []
  }
 ],
 "metadata": {
  "kernelspec": {
   "display_name": "Python 3",
   "language": "python",
   "name": "python3"
  },
  "language_info": {
   "codemirror_mode": {
    "name": "ipython",
    "version": 3
   },
   "file_extension": ".py",
   "mimetype": "text/x-python",
   "name": "python",
   "nbconvert_exporter": "python",
   "pygments_lexer": "ipython3",
   "version": "3.11.3"
  }
 },
 "nbformat": 4,
 "nbformat_minor": 2
}
